{
  "nbformat": 4,
  "nbformat_minor": 0,
  "metadata": {
    "colab": {
      "provenance": []
    },
    "kernelspec": {
      "name": "python3",
      "display_name": "Python 3"
    },
    "language_info": {
      "name": "python"
    }
  },
  "cells": [
    {
      "cell_type": "code",
      "source": [
        "# ✅ STEP 1: Install Required Libraries\n",
        "!pip install -q gradio transformers sentencepiece torch requests\n",
        "\n",
        "# ✅ STEP 2: Import Modules\n",
        "import gradio as gr\n",
        "import requests\n",
        "import warnings\n",
        "warnings.filterwarnings(\"ignore\")\n",
        "import random\n",
        "\n",
        "# ✅ STEP 3: Grammar Correction via LanguageTool API\n",
        "def grammar_correction(text):\n",
        "    url = \"https://api.languagetoolplus.com/v2/check\"\n",
        "    params = {\n",
        "        \"text\": text,\n",
        "        \"language\": \"en-US\"\n",
        "    }\n",
        "    response = requests.post(url, data=params)\n",
        "    if response.status_code != 200:\n",
        "        return text\n",
        "    result = response.json()\n",
        "    corrected = list(text)\n",
        "    offset_correction = 0\n",
        "    for match in result.get(\"matches\", []):\n",
        "        replacements = match.get(\"replacements\", [])\n",
        "        if replacements:\n",
        "            offset = match[\"offset\"] + offset_correction\n",
        "            length = match[\"length\"]\n",
        "            replacement = replacements[0][\"value\"]\n",
        "            corrected[offset:offset+length] = list(replacement)\n",
        "            offset_correction += len(replacement) - length\n",
        "    return \"\".join(corrected)\n",
        "\n",
        "# ✅ STEP 4: Tone/Style + Humanize Generator\n",
        "def style_transformations(text):\n",
        "    styles = {\n",
        "        \"Official\": f\"It is officially noted that {text.lower()}.\",\n",
        "        \"Formal\": f\"According to formal communication, {text}.\",\n",
        "        \"Informal / Casual\": f\"Yeah, so basically, {text.lower()}!\",\n",
        "        \"Polite\": f\"If you don't mind, {text.lower()}, please.\",\n",
        "        \"Frank\": f\"Honestly, {text}.\",\n",
        "        \"Rude\": f\"Ugh, just {text.lower()} already!\",\n",
        "        \"Sarcastic\": f\"Oh wow, like {text.lower()} really matters. 😒\",\n",
        "        \"Humorous\": f\"Guess what? {text.lower()} and the market exploded with veggies. 😂\",\n",
        "        \"Motivational\": f\"Believe in yourself! Even {text.lower()} is a step forward.\",\n",
        "        \"Apologetic\": f\"I'm sorry, but {text.lower()} had to happen.\",\n",
        "        \"Aggressive\": f\"Enough! {text.upper()} now!\",\n",
        "        \"Persuasive\": f\"You should really consider that {text.lower()}.\",\n",
        "        \"Sympathetic\": f\"I understand... {text.lower()} wasn’t easy.\",\n",
        "        \"Narrative\": f\"Yesterday, a story unfolded as he {text.lower()}.\",\n",
        "        \"Inquisitive\": f\"Did you know he actually {text.lower()}?\",\n",
        "        \"Commanding\": f\"{text.capitalize()} — no questions asked.\",\n",
        "        \"Grateful\": f\"I'm thankful that {text.lower()} happened.\",\n",
        "        \"Romantic\": f\"He {text.lower()} with your love in his heart. ❤️\",\n",
        "        \"Professional\": f\"As per schedule, he {text.lower()}.\",\n",
        "        \"Poetic\": f\"Through bustling streets he wandered, for {text.lower()} was his quest. 🌸\",\n",
        "        \"Humanized\": f\"You know, it just so happened that {text.lower()}, and that felt really natural.\"\n",
        "    }\n",
        "    return list(styles.values())\n",
        "\n",
        "# ✅ STEP 5: Simulated Plagiarism Check Function\n",
        "def check_plagiarism(text):\n",
        "    # Simulating matched % randomly for demo\n",
        "    matched_percent = random.choice([0, 10, 25, 45, 70, 95])\n",
        "    is_plag = matched_percent > 25\n",
        "    return f\"Plagiarism Detected: {'Yes' if is_plag else 'No'} ({matched_percent}% matched)\"\n",
        "\n",
        "# ✅ STEP 6: Final Integrated Function\n",
        "def grammarly_ai(user_input):\n",
        "    plagiarism_result = check_plagiarism(user_input)\n",
        "    corrected = grammar_correction(user_input)\n",
        "    styled_versions = style_transformations(corrected)\n",
        "    return [plagiarism_result, corrected] + styled_versions\n",
        "\n",
        "# ✅ STEP 7: Gradio Interface\n",
        "interface = gr.Interface(\n",
        "    fn=grammarly_ai,\n",
        "    inputs=gr.Textbox(lines=5, placeholder=\"Enter your sentence or paragraph here...\"),\n",
        "    outputs=[\n",
        "        gr.Textbox(label=\"🔍 Plagiarism Report\"),\n",
        "        gr.Textbox(label=\"✅ Grammar Corrected\"),\n",
        "        gr.Textbox(label=\"1️⃣ Official\"),\n",
        "        gr.Textbox(label=\"2️⃣ Formal\"),\n",
        "        gr.Textbox(label=\"3️⃣ Informal / Casual\"),\n",
        "        gr.Textbox(label=\"4️⃣ Polite\"),\n",
        "        gr.Textbox(label=\"5️⃣ Frank\"),\n",
        "        gr.Textbox(label=\"6️⃣ Rude\"),\n",
        "        gr.Textbox(label=\"7️⃣ Sarcastic\"),\n",
        "        gr.Textbox(label=\"8️⃣ Humorous\"),\n",
        "        gr.Textbox(label=\"9️⃣ Motivational\"),\n",
        "        gr.Textbox(label=\"🔟 Apologetic\"),\n",
        "        gr.Textbox(label=\"11️⃣ Aggressive\"),\n",
        "        gr.Textbox(label=\"12️⃣ Persuasive\"),\n",
        "        gr.Textbox(label=\"13️⃣ Sympathetic\"),\n",
        "        gr.Textbox(label=\"14️⃣ Narrative\"),\n",
        "        gr.Textbox(label=\"15️⃣ Inquisitive\"),\n",
        "        gr.Textbox(label=\"16️⃣ Commanding\"),\n",
        "        gr.Textbox(label=\"17️⃣ Grateful\"),\n",
        "        gr.Textbox(label=\"18️⃣ Romantic\"),\n",
        "        gr.Textbox(label=\"19️⃣ Professional\"),\n",
        "        gr.Textbox(label=\"20️⃣ Poetic\"),\n",
        "        gr.Textbox(label=\"✨ Humanized (Natural Style)\")\n",
        "    ],\n",
        "    title=\"🧠 Grammarly AI + Plagiarism & Tone Generator\",\n",
        "    description=\"Enter any sentence or paragraph. Instantly get grammar correction, tone/style rewrites, and a plagiarism report.\",\n",
        ")\n",
        "\n",
        "# ✅ STEP 8: Launch App\n",
        "interface.launch()\n"
      ],
      "metadata": {
        "colab": {
          "base_uri": "https://localhost:8080/",
          "height": 646
        },
        "id": "_Lz0psnLiIPy",
        "outputId": "94affcd6-b269-46a8-df8c-a4bf0ad36b55"
      },
      "execution_count": 8,
      "outputs": [
        {
          "output_type": "stream",
          "name": "stdout",
          "text": [
            "It looks like you are running Gradio on a hosted a Jupyter notebook. For the Gradio app to work, sharing must be enabled. Automatically setting `share=True` (you can turn this off by setting `share=False` in `launch()` explicitly).\n",
            "\n",
            "Colab notebook detected. To show errors in colab notebook, set debug=True in launch()\n",
            "* Running on public URL: https://11b7bc560de07c0072.gradio.live\n",
            "\n",
            "This share link expires in 1 week. For free permanent hosting and GPU upgrades, run `gradio deploy` from the terminal in the working directory to deploy to Hugging Face Spaces (https://huggingface.co/spaces)\n"
          ]
        },
        {
          "output_type": "display_data",
          "data": {
            "text/plain": [
              "<IPython.core.display.HTML object>"
            ],
            "text/html": [
              "<div><iframe src=\"https://11b7bc560de07c0072.gradio.live\" width=\"100%\" height=\"500\" allow=\"autoplay; camera; microphone; clipboard-read; clipboard-write;\" frameborder=\"0\" allowfullscreen></iframe></div>"
            ]
          },
          "metadata": {}
        },
        {
          "output_type": "execute_result",
          "data": {
            "text/plain": []
          },
          "metadata": {},
          "execution_count": 8
        }
      ]
    },
    {
      "cell_type": "code",
      "source": [],
      "metadata": {
        "id": "dVwPPOkNlP9v"
      },
      "execution_count": null,
      "outputs": []
    }
  ]
}